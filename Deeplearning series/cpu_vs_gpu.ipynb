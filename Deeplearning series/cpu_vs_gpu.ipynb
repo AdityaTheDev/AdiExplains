{
  "nbformat": 4,
  "nbformat_minor": 0,
  "metadata": {
    "colab": {
      "provenance": [],
      "gpuType": "T4"
    },
    "kernelspec": {
      "name": "python3",
      "display_name": "Python 3"
    },
    "language_info": {
      "name": "python"
    },
    "accelerator": "GPU"
  },
  "cells": [
    {
      "cell_type": "code",
      "execution_count": null,
      "metadata": {
        "colab": {
          "base_uri": "https://localhost:8080/"
        },
        "id": "EqoFlOqe4RnK",
        "outputId": "22df7d76-c89a-4be5-d6f7-e35aa41e6405"
      },
      "outputs": [
        {
          "output_type": "stream",
          "name": "stdout",
          "text": [
            "2.6.0+cu124\n"
          ]
        }
      ],
      "source": [
        "import torch\n",
        "print(torch.__version__)"
      ]
    },
    {
      "cell_type": "code",
      "source": [
        "device=torch.device('cuda')"
      ],
      "metadata": {
        "id": "Na_cgPgx5_7K"
      },
      "execution_count": null,
      "outputs": []
    },
    {
      "cell_type": "code",
      "source": [
        "torch.cuda.is_available()"
      ],
      "metadata": {
        "colab": {
          "base_uri": "https://localhost:8080/"
        },
        "id": "0y-NOMHm5Ril",
        "outputId": "390de238-e84f-463c-d9fd-bf002fe47cd7"
      },
      "execution_count": null,
      "outputs": [
        {
          "output_type": "execute_result",
          "data": {
            "text/plain": [
              "True"
            ]
          },
          "metadata": {},
          "execution_count": 6
        }
      ]
    },
    {
      "cell_type": "code",
      "source": [
        "torch.rand(10,10, device=device)"
      ],
      "metadata": {
        "colab": {
          "base_uri": "https://localhost:8080/"
        },
        "id": "u0w5n6T16ONG",
        "outputId": "1f0ca503-5e87-49ec-88a0-b8ae651e835e"
      },
      "execution_count": null,
      "outputs": [
        {
          "output_type": "execute_result",
          "data": {
            "text/plain": [
              "tensor([[0.9464, 0.8734, 0.3851, 0.5524, 0.3986, 0.4165, 0.1238, 0.3424, 0.5354,\n",
              "         0.3544],\n",
              "        [0.9050, 0.4778, 0.4700, 0.8258, 0.2037, 0.8828, 0.6311, 0.1449, 0.5520,\n",
              "         0.5661],\n",
              "        [0.7678, 0.1334, 0.6434, 0.3277, 0.5176, 0.3602, 0.7338, 0.4133, 0.9381,\n",
              "         0.5888],\n",
              "        [0.5734, 0.7614, 0.9916, 0.7365, 0.5149, 0.0214, 0.1031, 0.0773, 0.3542,\n",
              "         0.3817],\n",
              "        [0.4569, 0.0466, 0.0168, 0.2469, 0.1163, 0.1693, 0.3273, 0.6190, 0.6395,\n",
              "         0.1584],\n",
              "        [0.1179, 0.6618, 0.3342, 0.9162, 0.5610, 0.6373, 0.0416, 0.0245, 0.5239,\n",
              "         0.5097],\n",
              "        [0.5422, 0.3705, 0.0542, 0.3183, 0.1085, 0.1665, 0.1187, 0.7243, 0.9066,\n",
              "         0.0978],\n",
              "        [0.3301, 0.8556, 0.7196, 0.6619, 0.3323, 0.9366, 0.4386, 0.6795, 0.0336,\n",
              "         0.0624],\n",
              "        [0.6486, 0.6206, 0.9945, 0.0965, 0.2641, 0.2706, 0.4384, 0.6518, 0.6899,\n",
              "         0.6844],\n",
              "        [0.0576, 0.1776, 0.7779, 0.4137, 0.7835, 0.0387, 0.2023, 0.3270, 0.7296,\n",
              "         0.2513]], device='cuda:0')"
            ]
          },
          "metadata": {},
          "execution_count": 8
        }
      ]
    },
    {
      "cell_type": "code",
      "source": [
        "import torch\n",
        "import time\n",
        "size=20000\n",
        "\n",
        "cpu_matrix1=torch.rand(size,size, dtype=torch.float32)\n",
        "cpu_matrix2=torch.rand(size,size, dtype=torch.float32)\n",
        "\n",
        "start_time=time.time()\n",
        "cpu_matrixmul=torch.matmul(cpu_matrix1, cpu_matrix2)\n",
        "cpu_time=time.time()-start_time\n",
        "\n",
        "print(f\"The time on CPU is  :{cpu_time :.4f} seconds\")\n",
        "\n",
        "gpu_matrix1=cpu_matrix1.to('cuda')\n",
        "gpu_matrix2=cpu_matrix2.to('cuda')\n",
        "\n",
        "start_time=time.time()\n",
        "gpu_matrixmul=torch.matmul(gpu_matrix1,gpu_matrix2)\n",
        "torch.cuda.synchronize()\n",
        "gpu_time=time.time()-start_time\n",
        "print(f\"The time on GPU is {gpu_time :.4f} seconds\")\n",
        "print(\"CPU time/GPU time :\", cpu_time/gpu_time)"
      ],
      "metadata": {
        "colab": {
          "base_uri": "https://localhost:8080/"
        },
        "id": "4jtio4Cp451o",
        "outputId": "dae62b18-3b55-4832-b532-013e27245980"
      },
      "execution_count": null,
      "outputs": [
        {
          "output_type": "stream",
          "name": "stdout",
          "text": [
            "The time on CPU is  :126.2607 seconds\n",
            "The time on GPU is 3.8756 seconds\n",
            "CPU time/GPU time : 32.57807944642284\n"
          ]
        }
      ]
    },
    {
      "cell_type": "code",
      "source": [
        "a"
      ],
      "metadata": {
        "colab": {
          "base_uri": "https://localhost:8080/"
        },
        "id": "9oMGxTup5HrP",
        "outputId": "e2eaf5b7-faeb-414b-da55-9a88e041daca"
      },
      "execution_count": null,
      "outputs": [
        {
          "output_type": "execute_result",
          "data": {
            "text/plain": [
              "tensor([[0.0500, 0.3319, 0.8826,  ..., 0.8303, 0.9244, 0.4093],\n",
              "        [0.5580, 0.3758, 0.0980,  ..., 0.4260, 0.9477, 0.4947],\n",
              "        [0.9410, 0.9555, 0.8416,  ..., 0.0093, 0.5565, 0.7286],\n",
              "        ...,\n",
              "        [0.3830, 0.7467, 0.1447,  ..., 0.0881, 0.3925, 0.0885],\n",
              "        [0.4874, 0.9534, 0.9988,  ..., 0.6459, 0.7659, 0.3469],\n",
              "        [0.7317, 0.2044, 0.2861,  ..., 0.8356, 0.5471, 0.8914]])"
            ]
          },
          "metadata": {},
          "execution_count": 4
        }
      ]
    },
    {
      "cell_type": "code",
      "source": [],
      "metadata": {
        "id": "YjxmqQFD5Ps1"
      },
      "execution_count": null,
      "outputs": []
    }
  ]
}